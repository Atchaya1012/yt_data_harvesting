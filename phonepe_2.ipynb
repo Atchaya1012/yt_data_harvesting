{
 "cells": [
  {
   "cell_type": "code",
   "execution_count": 1,
   "metadata": {},
   "outputs": [],
   "source": [
    "import json\n",
    "import pandas as pd\n",
    "import requests\n",
    "import psycopg2\n",
    "import plotly.express as px\n",
    "import plotly.graph_objects as go\n",
    "import streamlit as st\n",
    "st.set_page_config(layout= \"wide\")\n"
   ]
  },
  {
   "cell_type": "code",
   "execution_count": 2,
   "metadata": {},
   "outputs": [],
   "source": [
    "#CREATE DATAFRAMES FROM SQL\n",
    "#sql connection\n",
    "mydb = psycopg2.connect(host = \"localhost\",\n",
    "                        user = \"postgres\",\n",
    "                        password = \"atchayaA@10_02\",\n",
    "                        database = \"phonepe_data\",\n",
    "                        port = \"5432\"\n",
    "                        )\n",
    "cursor = mydb.cursor()"
   ]
  },
  {
   "cell_type": "code",
   "execution_count": 5,
   "metadata": {},
   "outputs": [],
   "source": [
    "#Aggregated_transsaction\n",
    "cursor.execute(\"select * from aggregated_transaction;\")\n",
    "mydb.commit()\n",
    "table1 = cursor.fetchall()\n",
    "Aggre_trans = pd.DataFrame(table1,columns = (\"States\", \"Years\", \"Quarter\", \"Transaction_type\", \"Transaction_count\", \"Transaction_amount\"))\n"
   ]
  },
  {
   "cell_type": "code",
   "execution_count": 6,
   "metadata": {},
   "outputs": [],
   "source": [
    "#Aggregated_user\n",
    "cursor.execute(\"select * from aggregated_user\")\n",
    "mydb.commit()\n",
    "table2 = cursor.fetchall()\n",
    "Aggre_user = pd.DataFrame(table2,columns = (\"States\", \"Years\", \"Quarter\", \"Brands\", \"Transaction_count\", \"Percentage\"))"
   ]
  },
  {
   "cell_type": "code",
   "execution_count": 7,
   "metadata": {},
   "outputs": [],
   "source": [
    "#Map_transaction\n",
    "cursor.execute(\"select * from map_transaction\")\n",
    "mydb.commit()\n",
    "table3 = cursor.fetchall()\n",
    "Map_trans = pd.DataFrame(table3,columns = (\"States\", \"Years\", \"Quarter\", \"Districts\", \"Transaction_count\", \"Transaction_amount\"))\n"
   ]
  },
  {
   "cell_type": "code",
   "execution_count": 8,
   "metadata": {},
   "outputs": [],
   "source": [
    "#Map_user\n",
    "# Rollback the transaction\n",
    "mydb.rollback()\n",
    "\n",
    "cursor.execute(\"SELECT * FROM map_users\")\n",
    "table4 = cursor.fetchall()\n",
    "\n",
    "# Continue with the rest of my code\n",
    "Map_user = pd.DataFrame(table4, columns=(\"States\", \"Years\", \"Quarter\", \"Districts\", \"RegiseredUser\", \"AppOpens\"))\n"
   ]
  },
  {
   "cell_type": "code",
   "execution_count": 9,
   "metadata": {},
   "outputs": [],
   "source": [
    "#Top_transaction\n",
    "cursor.execute(\"select * from top_transaction\")\n",
    "mydb.commit()\n",
    "table5 = cursor.fetchall()\n",
    "Top_trans = pd.DataFrame(table5,columns = (\"States\", \"Years\", \"Quarter\", \"Pincodes\", \"Transaction_count\", \"Transaction_amount\"))"
   ]
  },
  {
   "cell_type": "code",
   "execution_count": 10,
   "metadata": {},
   "outputs": [],
   "source": [
    "#Top_user\n",
    "cursor.execute(\"select * from top_user\")\n",
    "mydb.commit()\n",
    "table6 = cursor.fetchall()\n",
    "Top_user = pd.DataFrame(table6, columns = (\"States\", \"Years\", \"Quarter\", \"Pincodes\", \"RegisteredUser\"))"
   ]
  },
  {
   "cell_type": "code",
   "execution_count": 11,
   "metadata": {},
   "outputs": [
    {
     "name": "stdout",
     "output_type": "stream",
     "text": [
      "Sorted State Names: ['Andaman & Nicobar', 'Andhra Pradesh', 'Arunachal Pradesh', 'Assam', 'Bihar', 'Chandigarh', 'Chhattisgarh', 'Dadra and Nagar Haveli and Daman and Diu', 'Delhi', 'Goa', 'Gujarat', 'Haryana', 'Himachal Pradesh', 'Jammu & Kashmir', 'Jharkhand', 'Karnataka', 'Kerala', 'Ladakh', 'Lakshadweep', 'Madhya Pradesh', 'Maharashtra', 'Manipur', 'Meghalaya', 'Mizoram', 'Nagaland', 'Odisha', 'Puducherry', 'Punjab', 'Rajasthan', 'Sikkim', 'Tamil Nadu', 'Telangana', 'Tripura', 'Uttar Pradesh', 'Uttarakhand', 'West Bengal']\n"
     ]
    }
   ],
   "source": [
    "def animate_all_amount():\n",
    "    # Define the URL for the geojson data\n",
    "    url = \"https://gist.githubusercontent.com/jbrobst/56c13bbbf9d97d187fea01ca62ea5112/raw/e388c4cae20aa53cb5090210a42ebb9b765c0a36/india_states.geojson\"\n",
    "\n",
    "    # Send a GET request to the URL to fetch the geojson data\n",
    "    response = requests.get(url)\n",
    "\n",
    "    # Parse the content of the response as JSON\n",
    "    data1 = json.loads(response.content)\n",
    "    \n",
    "    # Extract state names from the geojson data\n",
    "    state_names_tra = [feature[\"properties\"][\"ST_NM\"] for feature in data1[\"features\"]]\n",
    "\n",
    "    # Sort the state names\n",
    "    state_names_tra.sort()\n",
    "\n",
    "    # (Optional) Print or return the sorted state names\n",
    "    print(\"Sorted State Names:\", state_names_tra)\n",
    "\n",
    "    # Return the state_names_tra list\n",
    "    return data1, state_names_tra\n",
    "\n",
    "# Call the function to execute the code and get the state_names_tra list\n",
    "data1, state_names_tra = animate_all_amount()\n",
    "\n",
    "# Create DataFrame using the returned list\n",
    "df_state_names_tra = pd.DataFrame({\"States\": state_names_tra})"
   ]
  },
  {
   "cell_type": "code",
   "execution_count": 12,
   "metadata": {},
   "outputs": [],
   "source": [
    "# Initialize an empty list to store data frames\n",
    "frames = []"
   ]
  },
  {
   "cell_type": "code",
   "execution_count": 13,
   "metadata": {},
   "outputs": [],
   "source": [
    "#Outer Loop (Years)\n",
    "for year in Map_user[\"Years\"].unique():\n",
    "#Inner Loop (Quarters)\n",
    "        for quarter in Aggre_trans[\"Quarter\"].unique():\n",
    "#Data Filtering\n",
    "            at1 = Aggre_trans[(Aggre_trans[\"Years\"]==year)&(Aggre_trans[\"Quarter\"]==quarter)]\n",
    "#Column Selection\n",
    "            atf1 = at1[[\"States\",\"Transaction_amount\"]]\n",
    "#Sorting\n",
    "            atf1 = atf1.sort_values(by=\"States\")\n",
    "#Adding Year and Quarter Columns\n",
    "            atf1[\"Years\"]=year\n",
    "            atf1[\"Quarter\"]=quarter\n",
    "#Appending to List\n",
    "            frames.append(atf1)"
   ]
  },
  {
   "cell_type": "code",
   "execution_count": 15,
   "metadata": {},
   "outputs": [
    {
     "data": {
      "text/plain": [
       "DeltaGenerator()"
      ]
     },
     "execution_count": 15,
     "metadata": {},
     "output_type": "execute_result"
    }
   ],
   "source": [
    "# Combine DataFrames in the frames list into a single DataFrame\n",
    "\n",
    "merged_df = pd.concat(frames)  # In this case, it concatenates the DataFrames in the frames list.\n",
    "\n",
    "#This is a function from Plotly Express used to create a choropleth map.\n",
    "fig_tra = px.choropleth(merged_df, geojson= data1, locations= \"States\", featureidkey= \"properties.ST_NM\", color= \"Transaction_amount\",\n",
    "                        color_continuous_scale= \"Sunsetdark\", range_color= (0,4000000000), hover_name= \"States\", title = \"TRANSACTION AMOUNT\",\n",
    "                        animation_frame=\"Years\", animation_group=\"Quarter\")\n",
    "\n",
    "#Plotly Figure Updates\n",
    "fig_tra.update_geos(fitbounds= \"locations\", visible= False)\n",
    "fig_tra.update_layout(width= 600, height= 700)\n",
    "fig_tra.update_layout(title_font={\"size\":25})\n",
    "st.plotly_chart(fig_tra)"
   ]
  },
  {
   "cell_type": "code",
   "execution_count": 16,
   "metadata": {},
   "outputs": [],
   "source": [
    "def payment_count():\n",
    "    # Select relevant columns \"Transaction_type\" and \"Transaction_count\" from Aggre_trans\n",
    "    attype= Aggre_trans[[\"Transaction_type\", \"Transaction_count\"]]\n",
    "     # Group the data by \"Transaction_type\" and calculate the sum of \"Transaction_count\" for each group\n",
    "    att1= attype.groupby(\"Transaction_type\")[\"Transaction_count\"].sum()\n",
    "     # Convert the grouped data to a DataFrame and reset the index\n",
    "    df_att1= pd.DataFrame(att1).reset_index()\n",
    "    # Create a bar chart using Plotly Express\n",
    "    fig_pc= px.bar(df_att1,x= \"Transaction_type\",y= \"Transaction_count\",title= \"TRANSACTION TYPE and TRANSACTION COUNT\",\n",
    "                color_discrete_sequence=px.colors.sequential.Redor_r)\n",
    "    # Update the layout of the chart (setting width and height)\n",
    "    fig_pc.update_layout(width=600, height= 500)\n",
    "    return st.plotly_chart(fig_pc)\n"
   ]
  },
  {
   "cell_type": "code",
   "execution_count": 17,
   "metadata": {},
   "outputs": [],
   "source": [
    "def animate_all_count():\n",
    "    url = \"https://gist.githubusercontent.com/jbrobst/56c13bbbf9d97d187fea01ca62ea5112/raw/e388c4cae20aa53cb5090210a42ebb9b765c0a36/india_states.geojson\"\n",
    "    #Fetch GeoJSON Data\n",
    "    response= requests.get(url)\n",
    "    data1= json.loads(response.content)\n",
    "    #Extract State Names\n",
    "    state_names_tra= [feature[\"properties\"][\"ST_NM\"]for feature in data1[\"features\"]]\n",
    "    state_names_tra.sort()\n",
    "    ## Create DataFrame using the sorted state names\n",
    "    df_state_names_tra= pd.DataFrame({\"States\":state_names_tra})\n"
   ]
  },
  {
   "cell_type": "code",
   "execution_count": 18,
   "metadata": {},
   "outputs": [],
   "source": [
    "frames= []"
   ]
  },
  {
   "cell_type": "code",
   "execution_count": 19,
   "metadata": {},
   "outputs": [],
   "source": [
    "# Iterate through unique years in the \"Years\" column of Aggre_trans\n",
    "for year in Aggre_trans[\"Years\"].unique():\n",
    "    for quarter in Aggre_trans[\"Quarter\"].unique():\n",
    "        \n",
    "        # Filter Aggre_trans for the current year and quarter\n",
    "        at1= Aggre_trans[(Aggre_trans[\"Years\"]==year)&(Aggre_trans[\"Quarter\"]==quarter)]\n",
    "        atf1= at1[[\"States\", \"Transaction_count\"]]\n",
    "        atf1=atf1.sort_values(by=\"States\")\n",
    "        atf1[\"Years\"]=year\n",
    "        atf1[\"Quarter\"]=quarter\n",
    "        frames.append(atf1)\n"
   ]
  },
  {
   "cell_type": "code",
   "execution_count": 20,
   "metadata": {},
   "outputs": [
    {
     "data": {
      "text/plain": [
       "DeltaGenerator()"
      ]
     },
     "execution_count": 20,
     "metadata": {},
     "output_type": "execute_result"
    }
   ],
   "source": [
    "merged_df = pd.concat(frames)\n",
    "\n",
    "fig_tra= px.choropleth(merged_df, geojson= data1, locations= \"States\",featureidkey= \"properties.ST_NM\",\n",
    "                        color= \"Transaction_count\", color_continuous_scale=\"Sunsetdark\", range_color= (0,3000000),\n",
    "                        title=\"TRANSACTION COUNT\", hover_name= \"States\", animation_frame= \"Years\", animation_group= \"Quarter\")\n",
    "\n",
    "fig_tra.update_geos(fitbounds= \"locations\", visible= False)\n",
    "fig_tra.update_layout(width= 600, height= 700)\n",
    "fig_tra.update_layout(title_font={\"size\":25})\n",
    "st.plotly_chart(fig_tra)"
   ]
  },
  {
   "cell_type": "code",
   "execution_count": 21,
   "metadata": {},
   "outputs": [],
   "source": [
    "def payment_amount():\n",
    "    # Extract relevant columns from Aggre_trans DataFrame\n",
    "    attype= Aggre_trans[[\"Transaction_type\",\"Transaction_amount\"]]\n",
    "    # Group by transaction type and sum the transaction amounts\n",
    "    att1= attype.groupby(\"Transaction_type\")[\"Transaction_amount\"].sum()\n",
    "    # Create a DataFrame from the grouped data\n",
    "    df_att1= pd.DataFrame(att1).reset_index()\n",
    "    # Create a bar chart using Plotly Express\n",
    "    fig_tra_pa= px.bar(df_att1, x= \"Transaction_type\", y= \"Transaction_amount\", title= \"TRANSACTION TYPE and TRANSACTION AMOUNT\",\n",
    "                    color_discrete_sequence= px.colors.sequential.Blues_r)\n",
    "    #Layout Update\n",
    "    fig_tra_pa.update_layout(width= 600, height= 500)\n",
    "    return st.plotly_chart(fig_tra_pa)"
   ]
  },
  {
   "cell_type": "code",
   "execution_count": 22,
   "metadata": {},
   "outputs": [
    {
     "name": "stdout",
     "output_type": "stream",
     "text": [
      "Index(['States', 'Years', 'Quarter', 'Districts', 'RegiseredUser', 'AppOpens'], dtype='object')\n"
     ]
    }
   ],
   "source": [
    "print(Map_user.columns)"
   ]
  },
  {
   "cell_type": "code",
   "execution_count": 23,
   "metadata": {},
   "outputs": [],
   "source": [
    "def reg_all_states(state):\n",
    "    # Filter Map_user data for the specified state\n",
    "    mu = Map_user[[\"States\", \"Districts\", \"RegiseredUser\"]]\n",
    "    mu1 = mu.loc[(mu[\"States\"] == state)]\n",
    "    mu2 = mu1[[\"Districts\", \"RegiseredUser\"]]\n",
    "    mu3 = mu2.groupby(\"Districts\")[\"RegiseredUser\"].sum()\n",
    "    mu4 = pd.DataFrame(mu3).reset_index()\n",
    "\n",
    "    # Create a bar chart using Plotly Express\n",
    "    fig_mu = px.bar(mu4, x=\"Districts\", y=\"RegiseredUser\", title=\"DISTRICTS and REGISTERED USER\",\n",
    "                    color_discrete_sequence=px.colors.sequential.Bluered_r)\n",
    "\n",
    "    fig_mu.update_layout(width=1000, height=500)\n",
    "\n",
    "    return st.plotly_chart(fig_mu)\n"
   ]
  },
  {
   "cell_type": "code",
   "execution_count": 24,
   "metadata": {},
   "outputs": [],
   "source": [
    "def transaction_amount_year(sel_year):\n",
    "    url= \"https://gist.githubusercontent.com/jbrobst/56c13bbbf9d97d187fea01ca62ea5112/raw/e388c4cae20aa53cb5090210a42ebb9b765c0a36/india_states.geojson\"\n",
    "    response= requests.get(url)\n",
    "    data1= json.loads(response.content)\n",
    "    \n",
    "    # Extract and sort state names from the GeoJSON data\n",
    "    state_names_tra= [feature[\"properties\"]['ST_NM']for feature in data1[\"features\"]]\n",
    "    state_names_tra.sort()\n",
    "    \n",
    "    # Get user input for the year\n",
    "    year= int(sel_year)\n",
    "    # Filter Aggregated Transaction data for the specified year\n",
    "    atay= Aggre_trans[[\"States\",\"Years\",\"Transaction_amount\"]]\n",
    "    atay1= atay.loc[(Aggre_trans[\"Years\"]==year)]\n",
    "    atay2= atay1.groupby(\"States\")[\"Transaction_amount\"].sum()\n",
    "    atay3= pd.DataFrame(atay2).reset_index()\n",
    "    \n",
    "    # Create choropleth map using Plotly Express\n",
    "    fig_atay= px.choropleth(atay3, geojson= data1, locations= \"States\", featureidkey= \"properties.ST_NM\",\n",
    "                            color= \"Transaction_amount\", color_continuous_scale=\"rainbow\", range_color=(0,800000000000),\n",
    "                            title=\"TRANSACTION AMOUNT and STATES\", hover_name= \"States\")\n",
    "    \n",
    "    # Update choropleth map layout\n",
    "    fig_atay.update_geos(fitbounds= \"locations\", visible= False)\n",
    "    fig_atay.update_layout(width=600,height=700)\n",
    "    fig_atay.update_layout(title_font= {\"size\":25})\n",
    "    \n",
    "    \n",
    "    return st.plotly_chart(fig_atay)\n"
   ]
  },
  {
   "cell_type": "code",
   "execution_count": 25,
   "metadata": {},
   "outputs": [],
   "source": [
    "def payment_count_year(sel_year):\n",
    "    year= int(sel_year)\n",
    "    \n",
    "    # Filter Aggregated Transaction data for the specified year\n",
    "    apc= Aggre_trans[[\"Transaction_type\", \"Years\", \"Transaction_count\"]]\n",
    "    apc1= apc.loc[(Aggre_trans[\"Years\"]==year)]\n",
    "    apc2= apc1.groupby(\"Transaction_type\")[\"Transaction_count\"].sum()\n",
    "    apc3= pd.DataFrame(apc2).reset_index()\n",
    "    \n",
    "     # Create a bar chart using Plotly Express\n",
    "    fig_apc= px.bar(apc3,x= \"Transaction_type\", y= \"Transaction_count\", title= \"PAYMENT COUNT and PAYMENT TYPE\",\n",
    "                    color_discrete_sequence=px.colors.sequential.Brwnyl_r)\n",
    "    fig_apc.update_layout(width=600, height=500)\n",
    "    return st.plotly_chart(fig_apc)\n"
   ]
  },
  {
   "cell_type": "code",
   "execution_count": 26,
   "metadata": {},
   "outputs": [],
   "source": [
    "def transaction_count_year(sel_year):\n",
    "    url= \"https://gist.githubusercontent.com/jbrobst/56c13bbbf9d97d187fea01ca62ea5112/raw/e388c4cae20aa53cb5090210a42ebb9b765c0a36/india_states.geojson\"\n",
    "    response= requests.get(url)\n",
    "    data1=json.loads(response.content)\n",
    "    \n",
    "    # Extract and sort state names from the GeoJSON data\n",
    "    state_names_tra= [feature[\"properties\"][\"ST_NM\"]for feature in data1[\"features\"]]\n",
    "    state_names_tra.sort()\n",
    "    \n",
    "    year= int(sel_year)\n",
    "    \n",
    "    # Filter Aggregated Transaction data for the specified year\n",
    "    atcy= Aggre_trans[[\"States\", \"Years\", \"Transaction_count\"]]\n",
    "    atcy1= atcy.loc[(Aggre_trans[\"Years\"]==year)]\n",
    "    atcy2= atcy1.groupby(\"States\")[\"Transaction_count\"].sum()\n",
    "    atcy3= pd.DataFrame(atcy2).reset_index()\n",
    "    \n",
    "    # Create a choropleth map using Plotly Express\n",
    "    fig_atcy= px.choropleth(atcy3, geojson=data1, locations= \"States\", featureidkey= \"properties.ST_NM\",\n",
    "                            color= \"Transaction_count\", color_continuous_scale= \"rainbow\",range_color=(0,3000000000),\n",
    "                            title= \"TRANSACTION COUNT and STATES\",hover_name= \"States\")\n",
    "    fig_atcy.update_geos(fitbounds= \"locations\", visible= False)\n",
    "    fig_atcy.update_layout(width=600, height= 700)\n",
    "    fig_atcy.update_layout(title_font={\"size\":25})\n",
    "    \n",
    "    \n",
    "    return st.plotly_chart(fig_atcy)"
   ]
  },
  {
   "cell_type": "code",
   "execution_count": 27,
   "metadata": {},
   "outputs": [],
   "source": [
    "def payment_amount_year(sel_year):\n",
    "    year= int(sel_year)\n",
    "    \n",
    "    # Filter Aggregated Transaction data for the specified year\n",
    "    apay = Aggre_trans[[\"Years\", \"Transaction_type\", \"Transaction_amount\"]]\n",
    "    apay1= apay.loc[(Aggre_trans[\"Years\"]==year)]\n",
    "    apay2= apay1.groupby(\"Transaction_type\")[\"Transaction_amount\"].sum()\n",
    "    apay3= pd.DataFrame(apay2).reset_index()\n",
    "    \n",
    "    # Create a bar chart using Plotly Express\n",
    "    fig_apay= px.bar(apay3, x=\"Transaction_type\", y= \"Transaction_amount\", title= \"PAYMENT TYPE and PAYMENT AMOUNT\",\n",
    "                     color_discrete_sequence=px.colors.sequential.Burg_r)\n",
    "    fig_apay.update_layout(width=600, height=500)\n",
    "    \n",
    "    \n",
    "    return st.plotly_chart(fig_apay)"
   ]
  },
  {
   "cell_type": "code",
   "execution_count": 28,
   "metadata": {},
   "outputs": [],
   "source": [
    "def reg_state_all_RU(sel_year,state):\n",
    "    year= int(sel_year)\n",
    "    #Data Extraction\n",
    "    mus= Map_user[[\"States\", \"Years\", \"Districts\", \"RegisteredUser\"]]\n",
    "    #Data Filtering\n",
    "    mus1= mus.loc[(Map_user[\"States\"]==state)&(Map_user[\"Years\"]==year)]\n",
    "    #Grouping and Aggregation:\n",
    "    mus2= mus1.groupby(\"Districts\")[\"RegisteredUser\"].sum()\n",
    "    #DataFrame Creation\n",
    "    mus3= pd.DataFrame(mus2).reset_index()\n",
    "    #Bar Chart Creation:\n",
    "    fig_mus= px.bar(mus3, x= \"Districts\", y=\"RegisteredUser\", title=\"DISTRICTS and REGISTERED USER\",\n",
    "                    color_discrete_sequence=px.colors.sequential.Cividis_r)\n",
    "    fig_mus.update_layout(width= 600, height= 500)\n",
    "    return st.plotly_chart(fig_mus)"
   ]
  },
  {
   "cell_type": "code",
   "execution_count": 29,
   "metadata": {},
   "outputs": [],
   "source": [
    "def reg_state_all_TA(sel_year,state):\n",
    "    year= int(sel_year)\n",
    "    \n",
    "    # Filter Map_user data for the specified year and state\n",
    "    mts= Map_trans[[\"States\", \"Years\",\"Districts\", \"Transaction_amount\"]]\n",
    "    mts1= mts.loc[(Map_trans[\"States\"]==state)&(Map_trans[\"Years\"]==year)]\n",
    "    mts2= mts1.groupby(\"Districts\")[\"Transaction_amount\"].sum()\n",
    "    mts3= pd.DataFrame(mts2).reset_index()\n",
    "    \n",
    "    # Create a bar chart using Plotly Express\n",
    "    fig_mts= px.bar(mts3, x= \"Districts\", y= \"Transaction_amount\", title= \"DISTRICT and TRANSACTION AMOUNT\",\n",
    "                    color_discrete_sequence= px.colors.sequential.Darkmint_r)\n",
    "    \n",
    "    \n",
    "    fig_mts.update_layout(width= 600, height= 500)\n",
    "    \n",
    "    \n",
    "    return st.plotly_chart(fig_mts)"
   ]
  },
  {
   "cell_type": "code",
   "execution_count": 30,
   "metadata": {},
   "outputs": [],
   "source": [
    "def ques1():\n",
    "    # Extract relevant columns from Aggre_user data\n",
    "    brand= Aggre_user[[\"Brands\",\"Transaction_count\"]]\n",
    "    \n",
    "    # Group and sum transaction counts by brand, then sort in descending order\n",
    "    brand1= brand.groupby(\"Brands\")[\"Transaction_count\"].sum().sort_values(ascending=False)\n",
    "    brand2= pd.DataFrame(brand1).reset_index()\n",
    "    \n",
    "    fig_brands= px.pie(brand2, values= \"Transaction_count\", names= \"Brands\", color_discrete_sequence=px.colors.sequential.dense_r,\n",
    "                       title= \"Top Mobile Brands of Transaction_count\")\n",
    "    return st.plotly_chart(fig_brands)"
   ]
  },
  {
   "cell_type": "code",
   "execution_count": 31,
   "metadata": {},
   "outputs": [],
   "source": [
    "def ques2():\n",
    "    lt= Aggre_trans[[\"States\", \"Transaction_amount\"]]\n",
    "    lt1= lt.groupby(\"States\")[\"Transaction_amount\"].sum().sort_values(ascending= True)\n",
    "    lt2= pd.DataFrame(lt1).reset_index().head(10)\n",
    "\n",
    "    fig_lts= px.bar(lt2, x= \"States\", y= \"Transaction_amount\",title= \"LOWEST TRANSACTION AMOUNT and STATES\",\n",
    "                    color_discrete_sequence= px.colors.sequential.Oranges_r)\n",
    "    return st.plotly_chart(fig_lts)"
   ]
  },
  {
   "cell_type": "code",
   "execution_count": 32,
   "metadata": {},
   "outputs": [],
   "source": [
    "def ques3():\n",
    "    htd= Map_trans[[\"Districts\", \"Transaction_amount\"]]\n",
    "    htd1= htd.groupby(\"Districts\")[\"Transaction_amount\"].sum().sort_values(ascending=False)\n",
    "    htd2= pd.DataFrame(htd1).head(10).reset_index()\n",
    "\n",
    "    fig_htd= px.pie(htd2, values= \"Transaction_amount\", names= \"Districts\", title=\"TOP 10 DISTRICTS OF HIGHEST TRANSACTION AMOUNT\",\n",
    "                    color_discrete_sequence=px.colors.sequential.Emrld_r)\n",
    "    return st.plotly_chart(fig_htd)\n"
   ]
  },
  {
   "cell_type": "code",
   "execution_count": 33,
   "metadata": {},
   "outputs": [],
   "source": [
    "def ques4():\n",
    "    htd= Map_trans[[\"Districts\", \"Transaction_amount\"]]\n",
    "    htd1= htd.groupby(\"Districts\")[\"Transaction_amount\"].sum().sort_values(ascending=True)\n",
    "    htd2= pd.DataFrame(htd1).head(10).reset_index()\n",
    "\n",
    "    fig_htd= px.pie(htd2, values= \"Transaction_amount\", names= \"Districts\", title=\"TOP 10 DISTRICTS OF LOWEST TRANSACTION AMOUNT\",\n",
    "                    color_discrete_sequence=px.colors.sequential.Greens_r)\n",
    "    return st.plotly_chart(fig_htd)"
   ]
  },
  {
   "cell_type": "code",
   "execution_count": 34,
   "metadata": {},
   "outputs": [],
   "source": [
    "def ques5():\n",
    "    sa= Map_user[[\"States\", \"AppOpens\"]]\n",
    "    sa1= sa.groupby(\"States\")[\"AppOpens\"].sum().sort_values(ascending=False)\n",
    "    sa2= pd.DataFrame(sa1).reset_index().head(10)\n",
    "\n",
    "    fig_sa= px.bar(sa2, x= \"States\", y= \"AppOpens\", title=\"Top 10 States With AppOpens\",\n",
    "                color_discrete_sequence= px.colors.sequential.deep_r)\n",
    "    return st.plotly_chart(fig_sa)"
   ]
  },
  {
   "cell_type": "code",
   "execution_count": 35,
   "metadata": {},
   "outputs": [],
   "source": [
    "def ques6():\n",
    "    sa= Map_user[[\"States\", \"AppOpens\"]]\n",
    "    sa1= sa.groupby(\"States\")[\"AppOpens\"].sum().sort_values(ascending=True)\n",
    "    sa2= pd.DataFrame(sa1).reset_index().head(10)\n",
    "\n",
    "    fig_sa= px.bar(sa2, x= \"States\", y= \"AppOpens\", title=\"lowest 10 States With AppOpens\",\n",
    "                color_discrete_sequence= px.colors.sequential.dense_r)\n",
    "    return st.plotly_chart(fig_sa)"
   ]
  },
  {
   "cell_type": "code",
   "execution_count": 36,
   "metadata": {},
   "outputs": [],
   "source": [
    "def ques7():\n",
    "    stc= Aggre_trans[[\"States\", \"Transaction_count\"]]\n",
    "    stc1= stc.groupby(\"States\")[\"Transaction_count\"].sum().sort_values(ascending=True)\n",
    "    stc2= pd.DataFrame(stc1).reset_index()\n",
    "\n",
    "    fig_stc= px.bar(stc2, x= \"States\", y= \"Transaction_count\", title= \"STATES WITH LOWEST TRANSACTION COUNT\",\n",
    "                    color_discrete_sequence= px.colors.sequential.Jet_r)\n",
    "    return st.plotly_chart(fig_stc)"
   ]
  },
  {
   "cell_type": "code",
   "execution_count": 37,
   "metadata": {},
   "outputs": [],
   "source": [
    "def ques8():\n",
    "    stc= Aggre_trans[[\"States\", \"Transaction_count\"]]\n",
    "    stc1= stc.groupby(\"States\")[\"Transaction_count\"].sum().sort_values(ascending=False)\n",
    "    stc2= pd.DataFrame(stc1).reset_index()\n",
    "\n",
    "    fig_stc= px.bar(stc2, x= \"States\", y= \"Transaction_count\", title= \"STATES WITH HIGHEST TRANSACTION COUNT\",\n",
    "                    color_discrete_sequence= px.colors.sequential.Magenta_r)\n",
    "    return st.plotly_chart(fig_stc)\n"
   ]
  },
  {
   "cell_type": "code",
   "execution_count": 38,
   "metadata": {},
   "outputs": [],
   "source": [
    "def ques9():\n",
    "    ht= Aggre_trans[[\"States\", \"Transaction_amount\"]]\n",
    "    ht1= ht.groupby(\"States\")[\"Transaction_amount\"].sum().sort_values(ascending= False)\n",
    "    ht2= pd.DataFrame(ht1).reset_index().head(10)\n",
    "\n",
    "    fig_lts= px.bar(ht2, x= \"States\", y= \"Transaction_amount\",title= \"HIGHEST TRANSACTION AMOUNT and STATES\",\n",
    "                    color_discrete_sequence= px.colors.sequential.Oranges_r)\n",
    "    return st.plotly_chart(fig_lts)"
   ]
  },
  {
   "cell_type": "code",
   "execution_count": 39,
   "metadata": {},
   "outputs": [],
   "source": [
    "def ques10():\n",
    "    dt= Map_trans[[\"Districts\", \"Transaction_amount\"]]\n",
    "    dt1= dt.groupby(\"Districts\")[\"Transaction_amount\"].sum().sort_values(ascending=True)\n",
    "    dt2= pd.DataFrame(dt1).reset_index().head(50)\n",
    "\n",
    "    fig_dt= px.bar(dt2, x= \"Districts\", y= \"Transaction_amount\", title= \"DISTRICTS WITH LOWEST TRANSACTION AMOUNT\",\n",
    "                color_discrete_sequence= px.colors.sequential.Mint_r)\n",
    "    return st.plotly_chart(fig_dt)"
   ]
  },
  {
   "cell_type": "code",
   "execution_count": 40,
   "metadata": {},
   "outputs": [
    {
     "name": "stdout",
     "output_type": "stream",
     "text": [
      "Sorted State Names: ['Andaman & Nicobar', 'Andhra Pradesh', 'Arunachal Pradesh', 'Assam', 'Bihar', 'Chandigarh', 'Chhattisgarh', 'Dadra and Nagar Haveli and Daman and Diu', 'Delhi', 'Goa', 'Gujarat', 'Haryana', 'Himachal Pradesh', 'Jammu & Kashmir', 'Jharkhand', 'Karnataka', 'Kerala', 'Ladakh', 'Lakshadweep', 'Madhya Pradesh', 'Maharashtra', 'Manipur', 'Meghalaya', 'Mizoram', 'Nagaland', 'Odisha', 'Puducherry', 'Punjab', 'Rajasthan', 'Sikkim', 'Tamil Nadu', 'Telangana', 'Tripura', 'Uttar Pradesh', 'Uttarakhand', 'West Bengal']\n"
     ]
    }
   ],
   "source": [
    "#streamlit part   \n",
    "st.title(\"PHONEPE DATA VISUALIZATION AND EXPLORATION\")\n",
    "tab1, tab2, tab3 = st.tabs([\"***HOME***\",\"***EXPLORE DATA***\",\"***TOP CHARTS***\"])\n",
    "\n",
    "with tab1:\n",
    "    col1,col2= st.columns(2)\n",
    "    \n",
    "    with col1:\n",
    "        st.header(\"PHONEPE\")\n",
    "        st.subheader(\"INDIA'S BEST TRANSACTION APP\")\n",
    "        st.markdown(\"PhonePe  is an Indian digital payments and financial technology company\")\n",
    "        st.write(\"****FEATURES****\")\n",
    "        st.write(\"   **-> Credit & Debit card linking**\")\n",
    "        st.write(\"   **-> Bank Balance check**\")\n",
    "        st.write(\"   **->Money Storage**\")\n",
    "        st.write(\"   **->PIN Authorization**\")\n",
    "        st.download_button(\"DOWNLOAD THE APP NOW\", \"https://www.phonepe.com/app-download/\")\n",
    "    with col2:\n",
    "        st.video(\"C:\\\\Users\\\\ELCOT\\\\Desktop\\\\phonepe\\\\video\\\\phonepe_add.mp4\")\n",
    "        \n",
    "    col3,col4= st.columns(2)\n",
    "    \n",
    "    with col3:\n",
    "        st.video(\"C:\\\\Users\\\\ELCOT\\\\Desktop\\\\phonepe\\\\video\\\\PhonePe_Motion_Graphics.mp4\")\n",
    "        \n",
    "    with col4:\n",
    "        st.write(\"**-> Easy Transactions**\")\n",
    "        st.write(\"**-> One App For All Your Payments**\")\n",
    "        st.write(\"**-> Your Bank Account Is All You Need**\")\n",
    "        st.write(\"**-> Multiple Payment Modes**\")\n",
    "        st.write(\"**-> PhonePe Merchants**\")\n",
    "        st.write(\"**-> Multiple Ways To Pay**\")\n",
    "        st.write(\"**-> 1.Direct Transfer & More**\")\n",
    "        st.write(\"**-> 2.QR Code**\")\n",
    "        st.write(\"**-> Earn Great Rewards**\")\n",
    "        \n",
    "    col5,col6= st.columns(2)\n",
    "    \n",
    "    with col5:\n",
    "        st.markdown(\" \")\n",
    "        st.markdown(\" \")\n",
    "        st.markdown(\" \")\n",
    "        st.markdown(\" \")\n",
    "        st.markdown(\" \")\n",
    "        st.markdown(\" \")\n",
    "        st.markdown(\" \")\n",
    "        st.markdown(\" \")\n",
    "        st.markdown(\" \")\n",
    "        st.write(\"**->No Wallet Top-Up Required**\")\n",
    "        st.write(\"**->Pay Directly From Any Bank To Any Bank A/C**\")\n",
    "        st.write(\"**->Instantly & Free**\")\n",
    "        \n",
    "    with col6:\n",
    "        st.video(\"C:\\\\Users\\\\ELCOT\\\\Desktop\\\\phonepe\\\\video\\\\PhonePe_Motion_Graphics2.mp4\")\n",
    "        \n",
    "        \n",
    "with tab2:\n",
    "    sel_year = st.selectbox(\"select the Year\",(\"All\", \"2018\", \"2019\", \"2020\", \"2021\", \"2022\", \"2023\"))\n",
    "    if sel_year == \"All\" :\n",
    "        col1, col2 = st.columns(2)\n",
    "        with col1:\n",
    "            animate_all_amount()\n",
    "            payment_count()\n",
    "            \n",
    "        with col2:\n",
    "            animate_all_count()\n",
    "            payment_amount()\n",
    "            \n",
    "        state=st.selectbox(\"selecet the state\",('Andaman & Nicobar', 'Andhra Pradesh', 'Arunachal Pradesh',\n",
    "                                                'Assam', 'Bihar', 'Chandigarh', 'Chhattisgarh',\n",
    "                                                'Dadra and Nagar Haveli and Daman and Diu', 'Delhi', 'Goa',\n",
    "                                                'Gujarat', 'Haryana', 'Himachal Pradesh', 'Jammu & Kashmir',\n",
    "                                                'Jharkhand', 'Karnataka', 'Kerala', 'Ladakh', 'Lakshadweep',\n",
    "                                                'Madhya Pradesh', 'Maharashtra', 'Manipur', 'Meghalaya', 'Mizoram',\n",
    "                                                'Nagaland', 'Odisha', 'Puducherry', 'Punjab', 'Rajasthan',\n",
    "                                                'Sikkim', 'Tamil Nadu', 'Telangana', 'Tripura', 'Uttar Pradesh',\n",
    "                                                'Uttarakhand', 'West Bengal'))\n",
    "        \n",
    "        reg_all_states(state)\n",
    "        \n",
    "    else:\n",
    "        col1,col2= st.columns(2)\n",
    "        \n",
    "        with col1:\n",
    "            transaction_amount_year(sel_year)\n",
    "            payment_count_year(sel_year)\n",
    "            \n",
    "        with col2:\n",
    "            transaction_count_year(sel_year)\n",
    "            payment_amount_year(sel_year)\n",
    "            state= st.selectbox(\"selecet the state\",('Andaman & Nicobar', 'Andhra Pradesh', 'Arunachal Pradesh',\n",
    "                                                'Assam', 'Bihar', 'Chandigarh', 'Chhattisgarh',\n",
    "                                                'Dadra and Nagar Haveli and Daman and Diu', 'Delhi', 'Goa',\n",
    "                                                'Gujarat', 'Haryana', 'Himachal Pradesh', 'Jammu & Kashmir',\n",
    "                                                'Jharkhand', 'Karnataka', 'Kerala', 'Ladakh', 'Lakshadweep',\n",
    "                                                'Madhya Pradesh', 'Maharashtra', 'Manipur', 'Meghalaya', 'Mizoram',\n",
    "                                                'Nagaland', 'Odisha', 'Puducherry', 'Punjab', 'Rajasthan',\n",
    "                                                'Sikkim', 'Tamil Nadu', 'Telangana', 'Tripura', 'Uttar Pradesh',\n",
    "                                                'Uttarakhand', 'West Bengal'))\n",
    "            reg_state_all_RU(sel_year,state)\n",
    "            reg_state_all_TA(sel_year,state)\n",
    "            \n",
    "    with tab3:\n",
    "        ques= st.selectbox(\"select the question\",('Top Brands Of Mobiles Used','States With Lowest Trasaction Amount',\n",
    "                                  'Districts With Highest Transaction Amount','Top 10 Districts With Lowest Transaction Amount',\n",
    "                                  'Top 10 States With AppOpens','Least 10 States With AppOpens','States With Lowest Trasaction Count',\n",
    "                                 'States With Highest Trasaction Count','States With Highest Trasaction Amount',\n",
    "                                 'Top 50 Districts With Lowest Transaction Amount'))\n",
    "        \n",
    "        if ques==\"Top Brands Of Mobiles Used\":\n",
    "            ques1()\n",
    "            \n",
    "        elif ques==\"States With Lowest Trasaction Amount\":\n",
    "            ques2()\n",
    "            \n",
    "        elif ques==\"Districts With Highest Transaction Amount\":\n",
    "            ques3()\n",
    "            \n",
    "        elif ques==\"Top 10 Districts With Lowest Transaction Amount\":\n",
    "            ques4()\n",
    "            \n",
    "        elif ques==\"Top 10 States With AppOpens\":\n",
    "            ques5()\n",
    "            \n",
    "        elif ques==\"Least 10 States With AppOpens\":\n",
    "            ques6()\n",
    "            \n",
    "        elif ques==\"States With Lowest Trasaction Count\":\n",
    "            ques7()\n",
    "            \n",
    "        elif ques==\"States With Highest Trasaction Count\":\n",
    "            ques8()\n",
    "            \n",
    "        elif ques==\"States With Highest Trasaction Amount\":\n",
    "            ques9()\n",
    "            \n",
    "        elif ques==\"Top 50 Districts With Lowest Transaction Amount\":\n",
    "            ques10()\n"
   ]
  }
 ],
 "metadata": {
  "kernelspec": {
   "display_name": "Python 3",
   "language": "python",
   "name": "python3"
  },
  "language_info": {
   "codemirror_mode": {
    "name": "ipython",
    "version": 3
   },
   "file_extension": ".py",
   "mimetype": "text/x-python",
   "name": "python",
   "nbconvert_exporter": "python",
   "pygments_lexer": "ipython3",
   "version": "3.10.5"
  }
 },
 "nbformat": 4,
 "nbformat_minor": 2
}
